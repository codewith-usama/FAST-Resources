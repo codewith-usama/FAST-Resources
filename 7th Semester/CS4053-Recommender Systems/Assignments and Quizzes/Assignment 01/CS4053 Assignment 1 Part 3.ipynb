{
 "cells": [
  {
   "cell_type": "code",
   "execution_count": 7,
   "id": "c1c78c7e",
   "metadata": {},
   "outputs": [],
   "source": [
    "import pandas as pd\n",
    "import numpy as np"
   ]
  },
  {
   "cell_type": "code",
   "execution_count": 28,
   "id": "924e4e39",
   "metadata": {
    "scrolled": true
   },
   "outputs": [],
   "source": [
    "matrix = pd.DataFrame({'Item 1': [5, 4, 5, 1], 'Item 2': [3, 2, 'NaN', 5], 'Item 3': [3, 3, 4, 4], 'Item 4': ['NaN', 3, 2, 3]}, index=['User 1', 'User 2', 'User 3', 'User 4'])"
   ]
  },
  {
   "cell_type": "code",
   "execution_count": 29,
   "id": "71ba2947",
   "metadata": {
    "scrolled": true
   },
   "outputs": [
    {
     "data": {
      "text/html": [
       "<div>\n",
       "<style scoped>\n",
       "    .dataframe tbody tr th:only-of-type {\n",
       "        vertical-align: middle;\n",
       "    }\n",
       "\n",
       "    .dataframe tbody tr th {\n",
       "        vertical-align: top;\n",
       "    }\n",
       "\n",
       "    .dataframe thead th {\n",
       "        text-align: right;\n",
       "    }\n",
       "</style>\n",
       "<table border=\"1\" class=\"dataframe\">\n",
       "  <thead>\n",
       "    <tr style=\"text-align: right;\">\n",
       "      <th></th>\n",
       "      <th>Item 1</th>\n",
       "      <th>Item 2</th>\n",
       "      <th>Item 3</th>\n",
       "      <th>Item 4</th>\n",
       "    </tr>\n",
       "  </thead>\n",
       "  <tbody>\n",
       "    <tr>\n",
       "      <th>User 1</th>\n",
       "      <td>5</td>\n",
       "      <td>3</td>\n",
       "      <td>3</td>\n",
       "      <td>NaN</td>\n",
       "    </tr>\n",
       "    <tr>\n",
       "      <th>User 2</th>\n",
       "      <td>4</td>\n",
       "      <td>2</td>\n",
       "      <td>3</td>\n",
       "      <td>3</td>\n",
       "    </tr>\n",
       "    <tr>\n",
       "      <th>User 3</th>\n",
       "      <td>5</td>\n",
       "      <td>NaN</td>\n",
       "      <td>4</td>\n",
       "      <td>2</td>\n",
       "    </tr>\n",
       "    <tr>\n",
       "      <th>User 4</th>\n",
       "      <td>1</td>\n",
       "      <td>5</td>\n",
       "      <td>4</td>\n",
       "      <td>3</td>\n",
       "    </tr>\n",
       "  </tbody>\n",
       "</table>\n",
       "</div>"
      ],
      "text/plain": [
       "        Item 1 Item 2  Item 3 Item 4\n",
       "User 1       5      3       3    NaN\n",
       "User 2       4      2       3      3\n",
       "User 3       5    NaN       4      2\n",
       "User 4       1      5       4      3"
      ]
     },
     "execution_count": 29,
     "metadata": {},
     "output_type": "execute_result"
    }
   ],
   "source": [
    "matrix.head()"
   ]
  },
  {
   "cell_type": "code",
   "execution_count": null,
   "id": "3e8475d9",
   "metadata": {},
   "outputs": [],
   "source": [
    "n_ratings = 5\n",
    "active_user = 1 # for this assignment\n",
    "active_item = 4 # for this assignment"
   ]
  },
  {
   "cell_type": "markdown",
   "id": "71e21f03",
   "metadata": {},
   "source": [
    "<h3 style=\"color:red\">Do not change anything in the data/code given above</h3>"
   ]
  },
  {
   "cell_type": "markdown",
   "id": "3447e866",
   "metadata": {},
   "source": [
    "<h1> Task 1 </h1>"
   ]
  },
  {
   "cell_type": "markdown",
   "id": "22c0e931",
   "metadata": {},
   "source": [
    "You need to implement the following functions:"
   ]
  },
  {
   "cell_type": "code",
   "execution_count": 40,
   "id": "7c9246d1",
   "metadata": {},
   "outputs": [],
   "source": [
    "def likelihood(matrix, rating):\n",
    "    # to be implemented for Task 1\n",
    "    return"
   ]
  },
  {
   "cell_type": "code",
   "execution_count": 41,
   "id": "ac241e10",
   "metadata": {},
   "outputs": [],
   "source": [
    "def prior(matrix, rating):\n",
    "    # to be implemented for Task 1\n",
    "    return"
   ]
  },
  {
   "cell_type": "code",
   "execution_count": 42,
   "id": "f78b75c7",
   "metadata": {},
   "outputs": [],
   "source": [
    "def posterior(matrix, rating):\n",
    "    # to be implemented for Task 1\n",
    "    return"
   ]
  },
  {
   "cell_type": "markdown",
   "id": "233d7b8a",
   "metadata": {},
   "source": [
    "<h3 style=\"color:red\">Do not change anything beyond this point</h3>"
   ]
  },
  {
   "cell_type": "code",
   "execution_count": 43,
   "id": "c40cf9a5",
   "metadata": {},
   "outputs": [],
   "source": [
    "posteriors = []\n",
    "\n",
    "# calculating posterior for each possible rating i.e. 1, 2, 3, 4, 5\n",
    "for i in range(n_ratings):\n",
    "    posteriors.append(posterior(matrix, i+1))\n",
    "\n",
    "# selecting rating that gives us the max posterior\n",
    "rating_to_be_given = posteriors.index(max(posteriors))\n",
    "\n",
    "# printing final answer and verify\n",
    "print(f'Rating for User {active_user} and Item {active_item} is: {rating_to_be_given}')"
   ]
  }
 ],
 "metadata": {
  "kernelspec": {
   "display_name": "Python 3 (ipykernel)",
   "language": "python",
   "name": "python3"
  },
  "language_info": {
   "codemirror_mode": {
    "name": "ipython",
    "version": 3
   },
   "file_extension": ".py",
   "mimetype": "text/x-python",
   "name": "python",
   "nbconvert_exporter": "python",
   "pygments_lexer": "ipython3",
   "version": "3.7.9"
  }
 },
 "nbformat": 4,
 "nbformat_minor": 5
}
